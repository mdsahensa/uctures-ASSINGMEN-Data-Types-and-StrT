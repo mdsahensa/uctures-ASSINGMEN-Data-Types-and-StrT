{
  "nbformat": 4,
  "nbformat_minor": 0,
  "metadata": {
    "colab": {
      "provenance": []
    },
    "kernelspec": {
      "name": "python3",
      "display_name": "Python 3"
    },
    "language_info": {
      "name": "python"
    }
  },
  "cells": [
    {
      "cell_type": "markdown",
      "source": [
        "# THEORY\n"
      ],
      "metadata": {
        "id": "eNGIlgZMekS8"
      }
    },
    {
      "cell_type": "markdown",
      "source": [
        "1.**What are data structures, and why are they important?**\n",
        "- Data structures are the way of organising and storing of data in computer so it can be accesed and use efficiently.\n",
        "->importance: - (EFFICIENCY)- different data structure allow you to perform task(like inserting,deleting,searching data).it makes you program to run fast and work efficiently.\n",
        "- (ORGANIZE DATA)-by organizing data properly which help to manage and run faster.\n",
        "  \n"
      ],
      "metadata": {
        "id": "kT72cKVserPd"
      }
    },
    {
      "cell_type": "markdown",
      "source": [
        "2.**Explain the difference between mutable and immutable data types with examples?**\n",
        "\n",
        "- MUTABLE DATA TYPE- mutable data are changeable after creating.like you can add,remove,update data after creating also.example:-lists,dictionaries,sets.\n",
        "\n",
        "- IMMUTABLE DATA TYPE- immutable means unchangeable here you cant modify or change the data once you have created like tuples & strings"
      ],
      "metadata": {
        "id": "LUfAIIlmeq0c"
      }
    },
    {
      "cell_type": "markdown",
      "source": [
        "3.**what are the main differences between lists and tuples in Python?**\n",
        "- Main diiference between lists and python are:\n",
        ">  lists are mutable and tuples are immutable.\n",
        "\n",
        "   > lists uses syntax [ ]  and tuples uses syntax ( )\n",
        "\n",
        "   > lists are use when data may modified and tuples are used when data is fixed and no need for further modification.\n"
      ],
      "metadata": {
        "id": "UJ-aeXLgp_k1"
      }
    },
    {
      "cell_type": "markdown",
      "source": [
        "4.**Describe how dictionaries store data?**\n",
        "- usually it stores in form of keys:values.\n",
        "- How Dictionaries Work:\n",
        "Key: The unique identifier that you use to access a value. Keys must be immutable (e.g., strings, numbers, or tuples).\n",
        "Value: The data that is associated with a key. Values can be of any data type (e.g., numbers, lists, other dictionaries)."
      ],
      "metadata": {
        "id": "zdBKEacSr0xf"
      }
    },
    {
      "cell_type": "markdown",
      "source": [
        "5.**Why might you use a set instead of a list in Python?**\n",
        "- uniqueness: sets will eliminate the duplicate element in the program.its will ensure that all the elements are unique.But in lists are not same.\n",
        "- faster than the list in comparison of fastlookup.\n",
        "- sets have powerful mathematical operation than lists."
      ],
      "metadata": {
        "id": "t0LhGk5YtWNK"
      }
    },
    {
      "cell_type": "markdown",
      "source": [
        "6.**What is a string in Python, and how is it different from a list?**\n",
        "\n",
        "- string in python is a sequence of characters which encloses with single quotes (') and double quotes (\").\n",
        "- its only stores text like it could be word,sentence.But list can store string,integers or any other data type.\n",
        "- string are immutable but list are mutable\n",
        "\n",
        "```\n",
        "\n"
      ],
      "metadata": {
        "id": "zbOa2x5kuyUm"
      }
    },
    {
      "cell_type": "markdown",
      "source": [
        "7. **How do tuples ensure data integrity in Python?**\n",
        "- In the terms of immutability.\n",
        "\n",
        "*   tuples are not changeble after creation.\n",
        "*   its very safe for storing important data like configuration,employee id,id proof,etc.\n",
        "-  it prevent accidental change.\n",
        "\n",
        "\n"
      ],
      "metadata": {
        "id": "84kepGhYuyOm"
      }
    },
    {
      "cell_type": "markdown",
      "source": [
        "8. **What is a hash table, and how does it relate to dictionaries in Python?**\n",
        "- A hash table is a data structure that allows for efficient data retrieval based on a key. It uses a hash function to compute an index (called a hash value) where the corresponding value is stored. The primary purpose of a hash table is to enable fast lookups and insertions."
      ],
      "metadata": {
        "id": "T3dYbpTpwC1y"
      }
    },
    {
      "cell_type": "markdown",
      "source": [
        "9. **Can lists contain different data types in Python?**\n",
        "- Yes, lists in Python can contain different data types. Unlike other languages that require lists (or arrays) to contain only elements of the same type, Python lists are heterogeneous. This means that a list can store elements of any data type, including integers, strings, floating-point numbers, other lists, dictionaries, or even custom objects.\n",
        "\n"
      ],
      "metadata": {
        "id": "3O4tijhtxu40"
      }
    },
    {
      "cell_type": "markdown",
      "source": [
        "10. **Explain why strings are immutable in Python?**\n",
        "- Strings in Python are **immutable** because once created, their value cannot be changed. This provides **efficiency** (by reusing memory for identical strings), **safety** (preventing accidental changes), and **predictability** (ensuring string values stay constant). Immutability also makes strings usable as keys in dictionaries and helps Python optimize memory usage."
      ],
      "metadata": {
        "id": "DLevnV_Sy3vJ"
      }
    },
    {
      "cell_type": "markdown",
      "source": [
        "11. **What advantages do dictionaries offer over lists for certain tasks?**\n",
        "- Here are the advantages of **dictionaries** over **lists** in short points:\n",
        "\n",
        "1. **Fast Lookups**: Dictionaries allow fast **O(1)** access to values using keys, while lists require **O(n)** time to search for an element.\n",
        "   \n",
        "2. **Key-Value Pairs**: Dictionaries store data as **key-value pairs**, ideal for mapping related data (e.g., names to ages).\n",
        "\n",
        "3. **Efficient Updates**: You can quickly update values by key in a dictionary, whereas lists require finding the index first.\n",
        "\n",
        "4. **No Duplicates**: Dictionaries ensure unique keys, preventing duplicate entries, while lists allow duplicates.\n",
        "\n",
        "5. **Non-Sequential Data**: Dictionaries are better for unordered data, whereas lists are suited for ordered sequences."
      ],
      "metadata": {
        "id": "h4vpc-Tw0WAt"
      }
    },
    {
      "cell_type": "markdown",
      "source": [
        "12. **Describe a scenario where using a tuple would be preferable over a list?**\n",
        "- A tuple would be preferable over a list when you need to store a collection of immutable data that should not change throughout the program. For example:\n",
        "\n",
        "Scenario:\n",
        "If you're representing coordinates of a point in a 2D space, like (x, y), a tuple is ideal because:\n",
        "\n",
        "The coordinates should remain constant (immutable).\n",
        "Tuples provide faster performance and use less memory than lists."
      ],
      "metadata": {
        "id": "WS_MmdwY3ZXb"
      }
    },
    {
      "cell_type": "markdown",
      "source": [
        "13.**How do sets handle duplicate values in Python?**\n",
        "- it overwrite the existing data or you can say it elements the duplicate data"
      ],
      "metadata": {
        "id": "8SgfuHzt4DAB"
      }
    },
    {
      "cell_type": "markdown",
      "source": [
        "14. **How does the “in” keyword work differently for lists and dictionaries?**\n",
        "- For lists: The in keyword checks if a value is present in the list.\n",
        "  > if value present it returns True otherwise false\n",
        "- For dictionaries: The in keyword checks if a key is present in the dictionary.\n",
        " > if key present it returns True otherwise false"
      ],
      "metadata": {
        "id": "7Q1ckg3I4YQQ"
      }
    },
    {
      "cell_type": "markdown",
      "source": [
        "15. **Can you modify the elements of a tuple? Explain why or why not?**\n",
        "- No, you cannot modify the elements of a tuple in Python because tuples are immutable. Once a tuple is created, its content cannot be changed."
      ],
      "metadata": {
        "id": "gQS9k-MI5r7N"
      }
    },
    {
      "cell_type": "markdown",
      "source": [
        "16. **What is a nested dictionary, and give an example of its use case?**\n",
        "- A nested dictionary is a dictionary in Python where the values themselves are dictionaries. In other words, a dictionary can contain other dictionaries as values, allowing for the representation of more complex data structures."
      ],
      "metadata": {
        "id": "n0xtCIPg6RaK"
      }
    },
    {
      "cell_type": "markdown",
      "source": [
        "17. **Describe the time complexity of accessing elements in a dictionary?**\n",
        "- In Python,dictionaries are really fast and the value can be find by the key.Which reduces the time consumptions.This is called O(1), which means constant time."
      ],
      "metadata": {
        "id": "byKRwH8e6vGo"
      }
    },
    {
      "cell_type": "markdown",
      "source": [
        "18. **In what situations are lists preferred over dictionaries?**\n",
        "- List is better in terms of: when you need to mantain order of elements or work with sequence.\n",
        "-when you need to find the data by the required index list allows you,But dictionaries doesn't allows it.\n",
        "-its helps to store duplicate data with the same value but dictionaries will not."
      ],
      "metadata": {
        "id": "2ZZZxB7f6Z7B"
      }
    },
    {
      "cell_type": "markdown",
      "source": [
        "19. **Why are dictionaries considered unordered, and how does that affect data retrieval?**\n",
        "- Dictionaries are considered unordered because they use a hash table to store key-value pairs, where the order of insertion is not guaranteed (before Python 3.7). The focus is on efficient data retrieval based on keys, not order.\n",
        "\n",
        "\n",
        "\n",
        "**Impact: You can quickly retrieve values using keys, but relying on order for tasks like iteration is not recommended"
      ],
      "metadata": {
        "id": "-axhr4t49hXQ"
      }
    },
    {
      "cell_type": "markdown",
      "source": [
        "20. **Explain the difference between a list and a dictionary in terms of data retrieval.?**\n",
        "- The key difference between a *list and a *dictionary in terms of data retrieval is:\n",
        "\n",
        "- *List: Data is accessed using an *index (position), and elements are ordered. Retrieval is **O(1)** for direct index access.\n",
        "\n",
        "- *Dictionary: Data is accessed using a *key, and it uses *hashing for fast retrieval. Retrieval is **O(1)** for direct key access (average case).\n",
        "\n",
        " - Summary:\n",
        "- **List**: Access by position (index).\n",
        "- **Dictionary**: Access by key."
      ],
      "metadata": {
        "id": "EH3uNt4I_w6a"
      }
    },
    {
      "cell_type": "markdown",
      "source": [
        "#PRACTICAL"
      ],
      "metadata": {
        "id": "2FyDXSoNQGtp"
      }
    },
    {
      "cell_type": "markdown",
      "source": [
        "1.**Write a code to create a string with your name and print it?**"
      ],
      "metadata": {
        "id": "1km81jtUQQ9P"
      }
    },
    {
      "cell_type": "code",
      "source": [
        "name=(\"sahensa\")\n",
        "print(name)"
      ],
      "metadata": {
        "id": "CM3QmwHY9Qna",
        "colab": {
          "base_uri": "https://localhost:8080/"
        },
        "outputId": "1ee16145-e5d3-483f-c1cd-6b237f45c92b"
      },
      "execution_count": 1,
      "outputs": [
        {
          "output_type": "stream",
          "name": "stdout",
          "text": [
            "sahensa\n"
          ]
        }
      ]
    },
    {
      "cell_type": "markdown",
      "source": [
        "2.**Write a code to find the length of the string \"Hello World?**"
      ],
      "metadata": {
        "id": "G2rI9Jz3QrO2"
      }
    },
    {
      "cell_type": "code",
      "source": [
        "len(\"hello world\")"
      ],
      "metadata": {
        "colab": {
          "base_uri": "https://localhost:8080/"
        },
        "id": "Svak0fyeQhlZ",
        "outputId": "a47979fe-f9e5-4869-a4b6-6c4071b4fb08"
      },
      "execution_count": 2,
      "outputs": [
        {
          "output_type": "execute_result",
          "data": {
            "text/plain": [
              "11"
            ]
          },
          "metadata": {},
          "execution_count": 2
        }
      ]
    },
    {
      "cell_type": "markdown",
      "source": [
        "3.**Write a code to slice the first 3 characters from the string \"Python Programming\"?**"
      ],
      "metadata": {
        "id": "FVej2Vv-RL08"
      }
    },
    {
      "cell_type": "code",
      "source": [
        "text=(\"python programming\")\n",
        "first_3char=(text[0:4])\n",
        "print(first_3char)"
      ],
      "metadata": {
        "colab": {
          "base_uri": "https://localhost:8080/"
        },
        "id": "MFvNuBwtQ9jz",
        "outputId": "2620d9e0-1dbb-4581-8d07-0c9c7e6f0f75"
      },
      "execution_count": 9,
      "outputs": [
        {
          "output_type": "stream",
          "name": "stdout",
          "text": [
            "pyth\n"
          ]
        }
      ]
    },
    {
      "cell_type": "markdown",
      "source": [
        "4.**Write a code to convert the string \"hello\" to uppercase?**"
      ],
      "metadata": {
        "id": "-7GFk2dVSTqZ"
      }
    },
    {
      "cell_type": "code",
      "source": [
        "text2=(\"hello\")\n",
        "text2.upper()"
      ],
      "metadata": {
        "colab": {
          "base_uri": "https://localhost:8080/",
          "height": 35
        },
        "id": "NjaxEZUFR4Ti",
        "outputId": "df001233-1868-4644-fbfa-96f2bba8007f"
      },
      "execution_count": 21,
      "outputs": [
        {
          "output_type": "execute_result",
          "data": {
            "text/plain": [
              "'HELLO'"
            ],
            "application/vnd.google.colaboratory.intrinsic+json": {
              "type": "string"
            }
          },
          "metadata": {},
          "execution_count": 21
        }
      ]
    },
    {
      "cell_type": "markdown",
      "source": [
        "5.**Write a code to replace the word \"apple\" with \"orange\" in the string \"I like apple?**"
      ],
      "metadata": {
        "id": "sQv3KkU4T3Zt"
      }
    },
    {
      "cell_type": "code",
      "source": [
        "word=(\"apple\")\n",
        "word.replace(word,(\"orange\"))"
      ],
      "metadata": {
        "colab": {
          "base_uri": "https://localhost:8080/",
          "height": 35
        },
        "id": "6cicFd7NUL0v",
        "outputId": "505adc83-48bc-4a7e-b887-8c79890f364b"
      },
      "execution_count": 30,
      "outputs": [
        {
          "output_type": "execute_result",
          "data": {
            "text/plain": [
              "'orange'"
            ],
            "application/vnd.google.colaboratory.intrinsic+json": {
              "type": "string"
            }
          },
          "metadata": {},
          "execution_count": 30
        }
      ]
    },
    {
      "cell_type": "markdown",
      "source": [
        "6.**Write a code to create a list with numbers 1 to 5 and print it?**"
      ],
      "metadata": {
        "id": "BNxHVl7PVFKY"
      }
    },
    {
      "cell_type": "code",
      "source": [
        "list=[1,2,3,4,5]\n",
        "print(list)"
      ],
      "metadata": {
        "colab": {
          "base_uri": "https://localhost:8080/"
        },
        "id": "BaZQXOkvU-ss",
        "outputId": "98d3c3ae-cd49-49af-9c6f-f5b1895f22d0"
      },
      "execution_count": 40,
      "outputs": [
        {
          "output_type": "stream",
          "name": "stdout",
          "text": [
            "[1, 2, 3, 4, 5]\n"
          ]
        }
      ]
    },
    {
      "cell_type": "markdown",
      "source": [
        "7.**Write a code to append the number 10 to the list [1, 2, 3, 4]?**"
      ],
      "metadata": {
        "id": "7SHPViLiU9vB"
      }
    },
    {
      "cell_type": "code",
      "source": [
        "num=[1,2,3,4]\n",
        "num.append(10)\n",
        "num"
      ],
      "metadata": {
        "colab": {
          "base_uri": "https://localhost:8080/"
        },
        "id": "htJhKgxJUkIZ",
        "outputId": "7d8bbf7b-8a7e-4351-ca74-e8131ebeee86"
      },
      "execution_count": 42,
      "outputs": [
        {
          "output_type": "execute_result",
          "data": {
            "text/plain": [
              "[1, 2, 3, 4, 10]"
            ]
          },
          "metadata": {},
          "execution_count": 42
        }
      ]
    },
    {
      "cell_type": "markdown",
      "source": [
        "8.**Write a code to remove the number 3 from the list [1, 2, 3, 4, 5]?**"
      ],
      "metadata": {
        "id": "tB7ZRQFTWf00"
      }
    },
    {
      "cell_type": "code",
      "source": [
        "num=[1,2,3,4,5]\n",
        "num.remove(5)\n",
        "num"
      ],
      "metadata": {
        "colab": {
          "base_uri": "https://localhost:8080/"
        },
        "id": "m8mKEPS-WdRv",
        "outputId": "33dedb83-68e9-4ac5-e2fb-9d4399575a49"
      },
      "execution_count": 44,
      "outputs": [
        {
          "output_type": "execute_result",
          "data": {
            "text/plain": [
              "[1, 2, 3, 4]"
            ]
          },
          "metadata": {},
          "execution_count": 44
        }
      ]
    },
    {
      "cell_type": "markdown",
      "source": [
        "9.**Write a code to access the second element in the list ['a', 'b', 'c', 'd']?**"
      ],
      "metadata": {
        "id": "JEbAzYpLWtZL"
      }
    },
    {
      "cell_type": "code",
      "source": [
        "element=['a','b','c','d']\n",
        "element[1]"
      ],
      "metadata": {
        "colab": {
          "base_uri": "https://localhost:8080/",
          "height": 35
        },
        "id": "1CdmgKxsWq0a",
        "outputId": "744d0c62-fecd-4744-b226-f8d75c69e725"
      },
      "execution_count": 45,
      "outputs": [
        {
          "output_type": "execute_result",
          "data": {
            "text/plain": [
              "'b'"
            ],
            "application/vnd.google.colaboratory.intrinsic+json": {
              "type": "string"
            }
          },
          "metadata": {},
          "execution_count": 45
        }
      ]
    },
    {
      "cell_type": "markdown",
      "source": [
        "10.**Write a code to reverse the list [10, 20, 30, 40, 50].?**"
      ],
      "metadata": {
        "id": "RgGasSfQXLa6"
      }
    },
    {
      "cell_type": "code",
      "source": [
        "num2=[10,20,30,40,50]\n",
        "num2[::-1]"
      ],
      "metadata": {
        "colab": {
          "base_uri": "https://localhost:8080/"
        },
        "id": "f_m05u-uXKDt",
        "outputId": "915d4dd1-351d-45e8-9ca2-3fa3716ec248"
      },
      "execution_count": 46,
      "outputs": [
        {
          "output_type": "execute_result",
          "data": {
            "text/plain": [
              "[50, 40, 30, 20, 10]"
            ]
          },
          "metadata": {},
          "execution_count": 46
        }
      ]
    },
    {
      "cell_type": "markdown",
      "source": [
        "11.**. Write a code to create a tuple with the elements 100, 200, 300 and print it?**"
      ],
      "metadata": {
        "id": "RTGK1yhkXids"
      }
    },
    {
      "cell_type": "code",
      "source": [
        "NUM=(100,200,300)\n",
        "print(NUM)"
      ],
      "metadata": {
        "colab": {
          "base_uri": "https://localhost:8080/"
        },
        "id": "aYkiNIHDXgoU",
        "outputId": "4d692060-8510-4835-8ec0-fdf8b25b63e2"
      },
      "execution_count": 47,
      "outputs": [
        {
          "output_type": "stream",
          "name": "stdout",
          "text": [
            "(100, 200, 300)\n"
          ]
        }
      ]
    },
    {
      "cell_type": "markdown",
      "source": [
        "12.**. Write a code to access the second-to-last element of the tuple ('red', 'green', 'blue', 'yellow').**"
      ],
      "metadata": {
        "id": "uKlaXY0vX3nE"
      }
    },
    {
      "cell_type": "code",
      "source": [
        "elem=('red','green','blue','yellow')\n",
        "elem[1:4]"
      ],
      "metadata": {
        "colab": {
          "base_uri": "https://localhost:8080/"
        },
        "id": "HU7UCb4HX2WB",
        "outputId": "61871762-3d77-4b46-bab3-229d58df8043"
      },
      "execution_count": 48,
      "outputs": [
        {
          "output_type": "execute_result",
          "data": {
            "text/plain": [
              "('green', 'blue', 'yellow')"
            ]
          },
          "metadata": {},
          "execution_count": 48
        }
      ]
    },
    {
      "cell_type": "markdown",
      "source": [
        "13.**Write a code to find the minimum number in the tuple (10, 20, 5, 15).**"
      ],
      "metadata": {
        "id": "5ZeqzCd4YYvP"
      }
    },
    {
      "cell_type": "code",
      "source": [
        "num=(10,20,5,15)\n",
        "minimum_number= min(num)\n",
        "print(minimum_number)\n"
      ],
      "metadata": {
        "colab": {
          "base_uri": "https://localhost:8080/"
        },
        "id": "ANV7txWiYM1Q",
        "outputId": "49ed98a5-8a27-40ab-ee18-33263ff0bdd8"
      },
      "execution_count": 59,
      "outputs": [
        {
          "output_type": "stream",
          "name": "stdout",
          "text": [
            "5\n"
          ]
        }
      ]
    },
    {
      "cell_type": "markdown",
      "source": [
        "14.**Write a code to find the index of the element \"cat\" in the tuple ('dog', 'cat', 'rabbit').**"
      ],
      "metadata": {
        "id": "yerI11evZKzP"
      }
    },
    {
      "cell_type": "code",
      "source": [
        "words=(\"dog\",\"cat\",\"rabbit\")\n",
        "words.index(\"cat\")"
      ],
      "metadata": {
        "colab": {
          "base_uri": "https://localhost:8080/"
        },
        "id": "Ud8BZ0cRYgg-",
        "outputId": "d93c595a-26e2-4a81-c47a-ee49788428e6"
      },
      "execution_count": 60,
      "outputs": [
        {
          "output_type": "execute_result",
          "data": {
            "text/plain": [
              "1"
            ]
          },
          "metadata": {},
          "execution_count": 60
        }
      ]
    },
    {
      "cell_type": "markdown",
      "source": [
        "15.**Write a code to create a tuple containing three different fruits and check if \"kiwi\" is in it.**"
      ],
      "metadata": {
        "id": "KQ6pic3HaBXq"
      }
    },
    {
      "cell_type": "code",
      "source": [
        "fruits=[\"mango\",\"apple\",\"kiwi\"]\n",
        "if \"kiwi\" in fruits:\n",
        "  print(\"true\")\n",
        "else:\n",
        "  print(\"false\")"
      ],
      "metadata": {
        "colab": {
          "base_uri": "https://localhost:8080/"
        },
        "id": "YwNFsgtAZ4ih",
        "outputId": "cb25be00-7b37-41ec-85e2-a315c5590952"
      },
      "execution_count": 63,
      "outputs": [
        {
          "output_type": "stream",
          "name": "stdout",
          "text": [
            "true\n"
          ]
        }
      ]
    },
    {
      "cell_type": "markdown",
      "source": [
        "16.**Write a code to create a set with the elements 'a', 'b', 'c' and print it.**"
      ],
      "metadata": {
        "id": "GA63XawfatY4"
      }
    },
    {
      "cell_type": "code",
      "source": [
        "set1={'a','b','c'}\n",
        "print(set1)"
      ],
      "metadata": {
        "colab": {
          "base_uri": "https://localhost:8080/"
        },
        "id": "vdVFyl0jamdh",
        "outputId": "bfbe3857-116b-4c3a-9264-b5950d6a8566"
      },
      "execution_count": 65,
      "outputs": [
        {
          "output_type": "stream",
          "name": "stdout",
          "text": [
            "{'a', 'b', 'c'}\n"
          ]
        }
      ]
    },
    {
      "cell_type": "markdown",
      "source": [
        "17.**Write a code to clear all elements from the set {1, 2, 3, 4, 5}.**"
      ],
      "metadata": {
        "id": "7g5FZ0lObNSH"
      }
    },
    {
      "cell_type": "code",
      "source": [
        "num={1,2,3,4,5}\n",
        "del num"
      ],
      "metadata": {
        "id": "VqeVFtZ4bKCr"
      },
      "execution_count": 69,
      "outputs": []
    },
    {
      "cell_type": "markdown",
      "source": [
        "18.**Write a code to remove the element 4 from the set {1, 2, 3, 4}.**"
      ],
      "metadata": {
        "id": "Fymv6mz4bduV"
      }
    },
    {
      "cell_type": "code",
      "source": [
        "num1={1,2,3,4}\n",
        "num1.remove(4)\n",
        "num1"
      ],
      "metadata": {
        "colab": {
          "base_uri": "https://localhost:8080/"
        },
        "id": "isOF4E9WbXwn",
        "outputId": "1e58aff9-60d1-4d40-9604-bc0e78ec18d5"
      },
      "execution_count": 79,
      "outputs": [
        {
          "output_type": "execute_result",
          "data": {
            "text/plain": [
              "{1, 2, 3}"
            ]
          },
          "metadata": {},
          "execution_count": 79
        }
      ]
    },
    {
      "cell_type": "markdown",
      "source": [
        "19.**Write a code to find the union of two sets {1, 2, 3} and {3, 4, 5}.**"
      ],
      "metadata": {
        "id": "pRcpUkWocOIa"
      }
    },
    {
      "cell_type": "code",
      "source": [
        "set1={1,2,3}\n",
        "set2={3,4,5}\n",
        "print((set1.union(set2)))"
      ],
      "metadata": {
        "colab": {
          "base_uri": "https://localhost:8080/"
        },
        "id": "PsSctctNcLk1",
        "outputId": "28761fb5-4376-417e-aa90-f9177c1edb1e"
      },
      "execution_count": 85,
      "outputs": [
        {
          "output_type": "stream",
          "name": "stdout",
          "text": [
            "{1, 2, 3, 4, 5}\n"
          ]
        }
      ]
    },
    {
      "cell_type": "markdown",
      "source": [
        "20.**Write a code to find the intersection of two sets {1, 2, 3} and {2, 3, 4}.**"
      ],
      "metadata": {
        "id": "FHcosJKBcyiu"
      }
    },
    {
      "cell_type": "code",
      "source": [
        "set1={1,2,3}\n",
        "set2={2,3,4}\n",
        "set1 & set2              #both can be used\n",
        "#or\n",
        "set1.intersection(set2)\n"
      ],
      "metadata": {
        "colab": {
          "base_uri": "https://localhost:8080/"
        },
        "id": "P4yKmn3Sc5yY",
        "outputId": "1e4ec415-fe29-4882-d606-925179939dc6"
      },
      "execution_count": 94,
      "outputs": [
        {
          "output_type": "execute_result",
          "data": {
            "text/plain": [
              "{2, 3}"
            ]
          },
          "metadata": {},
          "execution_count": 94
        }
      ]
    },
    {
      "cell_type": "markdown",
      "source": [
        "21.**Write a code to create a dictionary with the keys \"name\", \"age\", and \"city\", and print it.**"
      ],
      "metadata": {
        "id": "UyzBIwqacyZB"
      }
    },
    {
      "cell_type": "code",
      "source": [
        "biodata={\"name\":\"alok\",\"age\":\"27\",\"city\":\"bihar\"}\n",
        "print(biodata)"
      ],
      "metadata": {
        "colab": {
          "base_uri": "https://localhost:8080/"
        },
        "id": "XAFcz-ZRcZ6X",
        "outputId": "2069946d-698d-4910-c6d3-c7ba5c93e8bf"
      },
      "execution_count": 95,
      "outputs": [
        {
          "output_type": "stream",
          "name": "stdout",
          "text": [
            "{'name': 'alok', 'age': '27', 'city': 'bihar'}\n"
          ]
        }
      ]
    },
    {
      "cell_type": "markdown",
      "source": [
        "22.**. Write a code to add a new key-value pair \"country\": \"USA\" to the dictionary {'name': 'John', 'age': 25}.**"
      ],
      "metadata": {
        "id": "KyPa4sY5ei-l"
      }
    },
    {
      "cell_type": "code",
      "source": [
        "example={\"name\":\"John\",\"age\":\"25\"}\n",
        "example.update({\"country\":\"USA\"})\n",
        "print(example)"
      ],
      "metadata": {
        "colab": {
          "base_uri": "https://localhost:8080/"
        },
        "id": "pXl5T_SWedQ5",
        "outputId": "be0f4290-2223-43fe-9233-fe721416a5a8"
      },
      "execution_count": 104,
      "outputs": [
        {
          "output_type": "stream",
          "name": "stdout",
          "text": [
            "{'name': 'John', 'age': '25', 'country': 'USA'}\n"
          ]
        }
      ]
    },
    {
      "cell_type": "markdown",
      "source": [
        "23.**Write a code to access the value associated with the key \"name\" in the dictionary {'name': 'Alice', 'age': 30}.**"
      ],
      "metadata": {
        "id": "cI-dOuifhMZu"
      }
    },
    {
      "cell_type": "code",
      "source": [
        "values={'name':'Alice','age':'30'}\n",
        "values['name']"
      ],
      "metadata": {
        "colab": {
          "base_uri": "https://localhost:8080/",
          "height": 35
        },
        "id": "FLJ3UMbAhJh9",
        "outputId": "9f5f0d9d-1032-4fd9-f4c1-8c0964659258"
      },
      "execution_count": 107,
      "outputs": [
        {
          "output_type": "execute_result",
          "data": {
            "text/plain": [
              "'Alice'"
            ],
            "application/vnd.google.colaboratory.intrinsic+json": {
              "type": "string"
            }
          },
          "metadata": {},
          "execution_count": 107
        }
      ]
    },
    {
      "cell_type": "markdown",
      "source": [
        "24.**Write a code to remove the key \"age\" from the dictionary {'name': 'Bob', 'age': 22, 'city': 'New York'}.**"
      ],
      "metadata": {
        "id": "HKAZEszmhyss"
      }
    },
    {
      "cell_type": "code",
      "source": [
        "dict2={'name':'Bob','age':'22','city':'New York'}\n",
        "dict2.pop('age')\n",
        "dict2\n"
      ],
      "metadata": {
        "colab": {
          "base_uri": "https://localhost:8080/"
        },
        "id": "4C8NxkR7hsqF",
        "outputId": "de6cb4c8-94cf-4f31-8eda-094369efe93b"
      },
      "execution_count": 119,
      "outputs": [
        {
          "output_type": "execute_result",
          "data": {
            "text/plain": [
              "{'name': 'Bob', 'city': 'New York'}"
            ]
          },
          "metadata": {},
          "execution_count": 119
        }
      ]
    },
    {
      "cell_type": "markdown",
      "source": [
        "25.**Write a code to check if the key \"city\" exists in the dictionary {'name': 'Alice', 'city': 'Paris'}.**"
      ],
      "metadata": {
        "id": "LCz39xkvi7dn"
      }
    },
    {
      "cell_type": "code",
      "source": [
        "bio={'name':'Alice','city':'Paris'}\n",
        "if ('city') in bio:\n",
        "  print('true')\n",
        "else:\n",
        "  print('false')"
      ],
      "metadata": {
        "colab": {
          "base_uri": "https://localhost:8080/"
        },
        "id": "9ssp1u5UiIKW",
        "outputId": "142ef147-afb8-4b3c-8e56-385f6ea1c6ed"
      },
      "execution_count": 121,
      "outputs": [
        {
          "output_type": "stream",
          "name": "stdout",
          "text": [
            "true\n"
          ]
        }
      ]
    },
    {
      "cell_type": "markdown",
      "source": [
        "26.**Write a code to create a list, a tuple, and a dictionary, and print them all.**"
      ],
      "metadata": {
        "id": "6fOAan7Ejhsu"
      }
    },
    {
      "cell_type": "code",
      "source": [
        "lists=[1,2,3,[5,6,7],{'helo','hi'},(0,0,0)]\n",
        "print(lists)"
      ],
      "metadata": {
        "colab": {
          "base_uri": "https://localhost:8080/"
        },
        "id": "EB-hpChujbhE",
        "outputId": "c0d119c8-1f18-4385-d18a-10229f637b09"
      },
      "execution_count": 122,
      "outputs": [
        {
          "output_type": "stream",
          "name": "stdout",
          "text": [
            "[1, 2, 3, [5, 6, 7], {'hi', 'helo'}, (0, 0, 0)]\n"
          ]
        }
      ]
    },
    {
      "cell_type": "markdown",
      "source": [
        "27.**Write a code to create a list of 5 random numbers between 1 and 100, sort it in ascending order, and print the result(replaced).**"
      ],
      "metadata": {
        "id": "7_nn72Vgkrw5"
      }
    },
    {
      "cell_type": "code",
      "source": [
        "lists=[45,12,10,65,99]\n",
        "sorted_list= sorted(lists)\n",
        "print(sorted_list)"
      ],
      "metadata": {
        "colab": {
          "base_uri": "https://localhost:8080/"
        },
        "id": "p5tsWPEmkoNt",
        "outputId": "7cdf2956-5160-4674-e8d9-72f4c2e6b306"
      },
      "execution_count": 132,
      "outputs": [
        {
          "output_type": "stream",
          "name": "stdout",
          "text": [
            "[10, 12, 45, 65, 99]\n"
          ]
        }
      ]
    },
    {
      "cell_type": "markdown",
      "source": [
        "28.**Write a code to create a list with strings and print the element at the third index.**"
      ],
      "metadata": {
        "id": "U1aHtjfOmAXh"
      }
    },
    {
      "cell_type": "code",
      "source": [
        "lists=['first','second','third','fourth']\n",
        "lists[3]"
      ],
      "metadata": {
        "colab": {
          "base_uri": "https://localhost:8080/",
          "height": 35
        },
        "id": "1IaOWTb3lXpo",
        "outputId": "10ca4b82-fd91-4d1d-ead5-1736f073abd5"
      },
      "execution_count": 136,
      "outputs": [
        {
          "output_type": "execute_result",
          "data": {
            "text/plain": [
              "'fourth'"
            ],
            "application/vnd.google.colaboratory.intrinsic+json": {
              "type": "string"
            }
          },
          "metadata": {},
          "execution_count": 136
        }
      ]
    },
    {
      "cell_type": "markdown",
      "source": [
        "29.**Write a code to combine two dictionaries into one and print the result.**"
      ],
      "metadata": {
        "id": "c3qvb5yVmjnU"
      }
    },
    {
      "cell_type": "code",
      "source": [
        "dict1={\"hello\"}\n",
        "dict2={\"world!\"}\n",
        "combine=dict1 | (dict2)        # this syntax '|' means union\n",
        "print(combine)"
      ],
      "metadata": {
        "colab": {
          "base_uri": "https://localhost:8080/"
        },
        "id": "oho82MDNmPrX",
        "outputId": "f80142ae-1d26-4900-b37f-8478f0d9a7ab"
      },
      "execution_count": 149,
      "outputs": [
        {
          "output_type": "stream",
          "name": "stdout",
          "text": [
            "{'hello', 'world!'}\n"
          ]
        }
      ]
    },
    {
      "cell_type": "markdown",
      "source": [
        "30.**Write a code to convert a list of strings into a set.**"
      ],
      "metadata": {
        "id": "7627TRU2n1MP"
      }
    },
    {
      "cell_type": "code",
      "source": [
        "my_list=[\"apple\",\"banana\",\"grapes\",\"papaya\"]\n",
        "coverted=set(my_list)\n",
        "print(coverted)"
      ],
      "metadata": {
        "colab": {
          "base_uri": "https://localhost:8080/"
        },
        "id": "ItjFCjDwmy0H",
        "outputId": "8cc75b98-1953-4874-b161-ff18820cb4ad"
      },
      "execution_count": 150,
      "outputs": [
        {
          "output_type": "stream",
          "name": "stdout",
          "text": [
            "{'apple', 'banana', 'papaya', 'grapes'}\n"
          ]
        }
      ]
    },
    {
      "cell_type": "code",
      "source": [],
      "metadata": {
        "id": "iTs350UMoPgF"
      },
      "execution_count": null,
      "outputs": []
    }
  ]
}